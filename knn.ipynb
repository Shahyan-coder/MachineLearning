{
 "cells": [
  {
   "cell_type": "code",
   "execution_count": 4,
   "id": "8e369e8f",
   "metadata": {},
   "outputs": [],
   "source": [
    "from collections import Counter\n",
    "import numpy as np\n",
    "class KNN:\n",
    "    def __init__(self,k):\n",
    "        self.k = k\n",
    "        \n",
    "    def fit(self,XTrain,yTrain):\n",
    "        self.XTrain = XTrain\n",
    "        self.yTrain = yTrain\n",
    "    \n",
    "    def _distance(self,x1,x2):\n",
    "        d = np.sqrt((np.sum(x1-x2)**2))\n",
    "        return d\n",
    "        \n",
    "    def predict(self,Xtest):\n",
    "        labelPredictions = []\n",
    "        for x in Xtest:\n",
    "            labelPredictions.append(self._predict(x))\n",
    "        return labelPredictions\n",
    "    \n",
    "    def _predict(self,x):\n",
    "        allDistances = []\n",
    "        for x2 in self.XTrain:\n",
    "            dist = self._distance(x,x2)\n",
    "            allDistances.append(dist)\n",
    "            \n",
    "        closest_k_indices = np.argsort(allDistances)[:self.k]\n",
    "        closest_y_values = []\n",
    "        for i in closest_k_indices:\n",
    "            closest_y_values.append(int(self.yTrain[i]))\n",
    "            \n",
    "        print(closest_y_values)\n",
    "      \n",
    "        majority = Counter(closest_y_values).most_common()\n",
    "        return majority[0][0]\n",
    "        \n",
    "        \n",
    "        \n",
    "    "
   ]
  },
  {
   "cell_type": "code",
   "execution_count": null,
   "id": "ab866f77",
   "metadata": {},
   "outputs": [],
   "source": []
  }
 ],
 "metadata": {
  "kernelspec": {
   "display_name": "Python 3 (ipykernel)",
   "language": "python",
   "name": "python3"
  },
  "language_info": {
   "codemirror_mode": {
    "name": "ipython",
    "version": 3
   },
   "file_extension": ".py",
   "mimetype": "text/x-python",
   "name": "python",
   "nbconvert_exporter": "python",
   "pygments_lexer": "ipython3",
   "version": "3.11.5"
  }
 },
 "nbformat": 4,
 "nbformat_minor": 5
}
