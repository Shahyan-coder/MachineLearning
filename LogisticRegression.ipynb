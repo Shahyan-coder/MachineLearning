{
 "cells": [
  {
   "cell_type": "code",
   "execution_count": null,
   "id": "23f2e435",
   "metadata": {},
   "outputs": [],
   "source": [
    "import numpy as np\n",
    "class LogisticRegression():\n",
    "    def __init__(self, lr = 0.01, num_iters = 1000):\n",
    "        self.lr = lr\n",
    "        self.num_iters = num_iters\n",
    "        self.w = None\n",
    "        self.b = None\n",
    "        \n",
    "    def sigmoid(self,linear_prediction):\n",
    "        return 1 / (1+np.exp(-linear_prediction))\n",
    "        \n",
    "    def fit(self,X,y):\n",
    "        m,n_feat = X.shape\n",
    "        self.w = np.zeros((n_feat,1))\n",
    "        self.b = 0\n",
    "        for _ in range(self.num_iters):\n",
    "            linear_prediction = np.dot(X,self.w)+self.b\n",
    "            logistic_prediction = self.sigmoid(linear_prediction)\n",
    "            wj = (1/m)*np.dot(X.T,(logistic_prediction-y))\n",
    "            grad_b = (1/m)*np.sum(logistic_prediction-y)\n",
    "            \n",
    "            self.w = self.w - self.lr*wj\n",
    "            self.b = self.b - self.lr*grad_b\n",
    "            \n",
    "    def predict(self, X):\n",
    "        linear_prediction = np.dot(X,self.w)+self.b\n",
    "        logistic_prediction = self.sigmoid(linear_prediction)\n",
    "        #change this:\n",
    "        final_prediction = [0 if y<=0.5 else 1 for y in logistic_prediction]\n",
    "        return final_prediction\n",
    "            \n",
    "            \n",
    "        "
   ]
  }
 ],
 "metadata": {
  "kernelspec": {
   "display_name": "Python 3 (ipykernel)",
   "language": "python",
   "name": "python3"
  },
  "language_info": {
   "codemirror_mode": {
    "name": "ipython",
    "version": 3
   },
   "file_extension": ".py",
   "mimetype": "text/x-python",
   "name": "python",
   "nbconvert_exporter": "python",
   "pygments_lexer": "ipython3",
   "version": "3.11.5"
  }
 },
 "nbformat": 4,
 "nbformat_minor": 5
}
