{
 "cells": [
  {
   "cell_type": "code",
   "execution_count": 1,
   "id": "86f4be13",
   "metadata": {},
   "outputs": [],
   "source": [
    "import numpy as np\n",
    "from statistics import mean\n",
    "class Kfold:\n",
    "    def kFoldTest(X,y,model):\n",
    "        size = len(y) // 5\n",
    "        accs =[]\n",
    "        for i in range(5):\n",
    "            left = i*size\n",
    "            right = (i+1)*size\n",
    "            X_test = X[left:right]\n",
    "            y_test = y[left:right]\n",
    "            \n",
    "            X_train = np.concatenate(X[:left],X[right:])\n",
    "            y_train = np.concatenate(y[:left],y[right:])\n",
    "            \n",
    "            model.fit(X_train,y_train)\n",
    "            y_pred = model.predict(X_test)\n",
    "            j=0\n",
    "            for i in range(len(y_pred)):\n",
    "                if y_pred[i] == y_test[i]:\n",
    "                    j = j+1\n",
    "            accs.append(j/len(y_pred))\n",
    "        acc = mean(accs)\n",
    "        return acc\n",
    "\n",
    "            \n",
    "            \n",
    "        \n",
    "        "
   ]
  },
  {
   "cell_type": "code",
   "execution_count": null,
   "id": "f78bbb30",
   "metadata": {},
   "outputs": [],
   "source": []
  }
 ],
 "metadata": {
  "kernelspec": {
   "display_name": "Python 3 (ipykernel)",
   "language": "python",
   "name": "python3"
  },
  "language_info": {
   "codemirror_mode": {
    "name": "ipython",
    "version": 3
   },
   "file_extension": ".py",
   "mimetype": "text/x-python",
   "name": "python",
   "nbconvert_exporter": "python",
   "pygments_lexer": "ipython3",
   "version": "3.11.5"
  }
 },
 "nbformat": 4,
 "nbformat_minor": 5
}
